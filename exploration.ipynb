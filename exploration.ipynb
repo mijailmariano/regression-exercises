{
 "cells": [
  {
   "cell_type": "code",
   "execution_count": 1,
   "metadata": {},
   "outputs": [],
   "source": [
    "%matplotlib inline\n",
    "import warnings\n",
    "warnings.filterwarnings(\"ignore\")\n",
    "\n",
    "# importing libraries/modules, and functions\n",
    "import pandas as pd\n",
    "import numpy as np\n",
    "import scipy.stats as stats\n",
    "\n",
    "# visualization libraries\n",
    "import matplotlib as mlp\n",
    "mlp.rcParams['figure.dpi'] = 200\n",
    "from matplotlib import pyplot as plt\n",
    "import seaborn as sns\n",
    "sns.set()\n",
    "\n",
    "# created zillow library and functions\n",
    "from wrangle import get_zillow_dataset, clean_zillow_dataset, zillow_outliers, train_validate_test_split\n",
    "\n",
    "# sklearn modules and scaling functions\n",
    "import sklearn\n",
    "\n",
    "import env\n",
    "from env import user, password, host, get_connection"
   ]
  },
  {
   "cell_type": "markdown",
   "metadata": {},
   "source": [
    "----\n",
    "``In these exercises, you will run through the stages of exploration as you continue to work toward the above goal.``\n",
    "\n",
    "3. Write a function named plot_variable_pairs that accepts a dataframe as input and plots all of the pairwise relationships along with the regression line for each pair.\n",
    "\n",
    "4. Write a function named plot_categorical_and_continuous_vars that accepts your dataframe and the name of the columns that hold the continuous and categorical features and outputs 3 different plots for visualizing a categorical variable and a continuous variable.\n",
    "\n",
    "5. Save the functions you have written to create visualizations in your explore.py file. Rewrite your notebook code so that you are using the functions imported from this file.\n",
    "\n",
    "6. Use the functions you created above to explore your Zillow train dataset in your explore.ipynb notebook.\n",
    "\n",
    "7. Come up with some initial hypotheses based on your goal of predicting property value.\n",
    "\n",
    "8. Visualize all combinations of variables in some way.\n",
    "\n",
    "9. Run the appropriate statistical tests where needed.\n",
    "\n",
    "10. What independent variables are correlated with the dependent variable, home value?\n",
    "\n",
    "11. Which independent variables are correlated with other independent variables (bedrooms, bathrooms, year built, square feet)?\n",
    "\n",
    "12. Make sure to document your takeaways from visualizations and statistical tests as well as the decisions you make throughout your process.\n",
    "\n",
    "13. Explore your dataset with any other visualizations you think will be helpful."
   ]
  },
  {
   "cell_type": "markdown",
   "metadata": {},
   "source": [
    "----\n",
    "#### ``Importing the \"2017 properties\" dataset for single family homes``\n",
    "\n",
    "- creating a csv for future exploration\n",
    "- this should help to better understand future analysis done on this dataset"
   ]
  },
  {
   "cell_type": "code",
   "execution_count": 2,
   "metadata": {},
   "outputs": [],
   "source": [
    "# creating the sql query to import all columns from the 2017 zillow properties dataset\n",
    "\n",
    "# query = ''' \n",
    "# SELECT *\n",
    "# FROM properties_2017\n",
    "# JOIN propertylandusetype using (propertylandusetypeid)\n",
    "# WHERE propertylandusedesc = \"Single Family Residential\"\n",
    "# '''\n",
    "\n",
    "# creating sql url\n",
    "# url = get_connection(user, password, host, \"zillow\" )\n",
    "\n",
    "# creating the dataframe\n",
    "# df = pd.read_sql(query, url)\n",
    "\n",
    "# generating a .csv file and sending to local directory\n",
    "# df.to_csv(\"/Users/mijailmariano/codeup-data-science/regression-exercises/full_zillow.csv\")"
   ]
  },
  {
   "cell_type": "code",
   "execution_count": 27,
   "metadata": {},
   "outputs": [
    {
     "name": "stdout",
     "output_type": "stream",
     "text": [
      "Initial zillow dataset shape: (2140235, 7)\n"
     ]
    },
    {
     "data": {
      "text/html": [
       "<div>\n",
       "<style scoped>\n",
       "    .dataframe tbody tr th:only-of-type {\n",
       "        vertical-align: middle;\n",
       "    }\n",
       "\n",
       "    .dataframe tbody tr th {\n",
       "        vertical-align: top;\n",
       "    }\n",
       "\n",
       "    .dataframe thead th {\n",
       "        text-align: right;\n",
       "    }\n",
       "</style>\n",
       "<table border=\"1\" class=\"dataframe\">\n",
       "  <thead>\n",
       "    <tr style=\"text-align: right;\">\n",
       "      <th></th>\n",
       "      <th>bedroom_count</th>\n",
       "      <th>bath_count</th>\n",
       "      <th>finished_sq_feet</th>\n",
       "      <th>home_value</th>\n",
       "      <th>year_built</th>\n",
       "      <th>tax_amount</th>\n",
       "      <th>fips</th>\n",
       "    </tr>\n",
       "  </thead>\n",
       "  <tbody>\n",
       "    <tr>\n",
       "      <th>4</th>\n",
       "      <td>4</td>\n",
       "      <td>2.0</td>\n",
       "      <td>3633.0</td>\n",
       "      <td>296425.0</td>\n",
       "      <td>2005</td>\n",
       "      <td>6941.39</td>\n",
       "      <td>6037</td>\n",
       "    </tr>\n",
       "    <tr>\n",
       "      <th>6</th>\n",
       "      <td>3</td>\n",
       "      <td>4.0</td>\n",
       "      <td>1620.0</td>\n",
       "      <td>847770.0</td>\n",
       "      <td>2011</td>\n",
       "      <td>10244.94</td>\n",
       "      <td>6037</td>\n",
       "    </tr>\n",
       "    <tr>\n",
       "      <th>7</th>\n",
       "      <td>3</td>\n",
       "      <td>2.0</td>\n",
       "      <td>2077.0</td>\n",
       "      <td>646760.0</td>\n",
       "      <td>1926</td>\n",
       "      <td>7924.68</td>\n",
       "      <td>6037</td>\n",
       "    </tr>\n",
       "    <tr>\n",
       "      <th>11</th>\n",
       "      <td>0</td>\n",
       "      <td>0.0</td>\n",
       "      <td>1200.0</td>\n",
       "      <td>5328.0</td>\n",
       "      <td>1972</td>\n",
       "      <td>91.60</td>\n",
       "      <td>6037</td>\n",
       "    </tr>\n",
       "    <tr>\n",
       "      <th>14</th>\n",
       "      <td>0</td>\n",
       "      <td>0.0</td>\n",
       "      <td>171.0</td>\n",
       "      <td>6920.0</td>\n",
       "      <td>1973</td>\n",
       "      <td>255.17</td>\n",
       "      <td>6037</td>\n",
       "    </tr>\n",
       "  </tbody>\n",
       "</table>\n",
       "</div>"
      ],
      "text/plain": [
       "    bedroom_count  bath_count  finished_sq_feet  home_value  year_built  \\\n",
       "4               4         2.0            3633.0    296425.0        2005   \n",
       "6               3         4.0            1620.0    847770.0        2011   \n",
       "7               3         2.0            2077.0    646760.0        1926   \n",
       "11              0         0.0            1200.0      5328.0        1972   \n",
       "14              0         0.0             171.0      6920.0        1973   \n",
       "\n",
       "    tax_amount  fips  \n",
       "4      6941.39  6037  \n",
       "6     10244.94  6037  \n",
       "7      7924.68  6037  \n",
       "11       91.60  6037  \n",
       "14      255.17  6037  "
      ]
     },
     "execution_count": 27,
     "metadata": {},
     "output_type": "execute_result"
    }
   ],
   "source": [
    "# 1. As with encoded vs. unencoded data, we recommend exploring un-scaled data in your EDA process.\n",
    "# 2. Make sure to perform a train, validate, test split before and use only your train dataset to explore the relationships between independent variables with other independent variables or independent variables with your target variable.\n",
    "\n",
    "# importing and cleaning zillow dataset\n",
    "zillow_df = get_zillow_dataset()\n",
    "zillow_df = clean_zillow_dataset(zillow_df)\n",
    "\n",
    "print(f'Initial zillow dataset shape: {zillow_df.shape}')\n",
    "zillow_df.head(5)"
   ]
  },
  {
   "cell_type": "code",
   "execution_count": 23,
   "metadata": {},
   "outputs": [
    {
     "data": {
      "text/plain": [
       "(2065188, 7)"
      ]
     },
     "execution_count": 23,
     "metadata": {},
     "output_type": "execute_result"
    }
   ],
   "source": [
    "# handling outliers \n",
    "zillow_df = zillow_outliers(zillow_df)\n",
    "zillow_df.shape"
   ]
  },
  {
   "cell_type": "code",
   "execution_count": 29,
   "metadata": {},
   "outputs": [
    {
     "name": "stdout",
     "output_type": "stream",
     "text": [
      "trains shape: (1198531, 7)\n",
      "validate shape: (513657, 7)\n",
      "test shape: (428047, 7)\n"
     ]
    }
   ],
   "source": [
    "# splitting the data into train, validate, and test\n",
    "train, validate, test = train_validate_test_split(zillow_df)\n",
    "\n",
    "print(f'trains shape: {train.shape}')\n",
    "print(f'validate shape: {validate.shape}')\n",
    "print(f'test shape: {test.shape}')"
   ]
  },
  {
   "cell_type": "code",
   "execution_count": 30,
   "metadata": {},
   "outputs": [],
   "source": [
    "# setting independent/dependent variables in ea. sub-dataset\n",
    "\n",
    "X_train = train.drop(columns=[\"home_value\", \"tax_amount\"])\n",
    "y_train = train.home_value\n",
    "\n",
    "X_validate = validate.drop(columns=[\"home_value\", \"tax_amount\"])\n",
    "y_validate = validate.home_value\n",
    "\n",
    "X_test = test.drop(columns=[\"home_value\", \"tax_amount\"])\n",
    "y_test = test.home_value"
   ]
  },
  {
   "cell_type": "markdown",
   "metadata": {},
   "source": [
    "-----\n",
    "#### ``Uni/Multivariate Exploration:``"
   ]
  },
  {
   "cell_type": "code",
   "execution_count": null,
   "metadata": {},
   "outputs": [],
   "source": []
  }
 ],
 "metadata": {
  "kernelspec": {
   "display_name": "Python 3.9.12 ('base')",
   "language": "python",
   "name": "python3"
  },
  "language_info": {
   "codemirror_mode": {
    "name": "ipython",
    "version": 3
   },
   "file_extension": ".py",
   "mimetype": "text/x-python",
   "name": "python",
   "nbconvert_exporter": "python",
   "pygments_lexer": "ipython3",
   "version": "3.9.12"
  },
  "orig_nbformat": 4,
  "vscode": {
   "interpreter": {
    "hash": "40d3a090f54c6569ab1632332b64b2c03c39dcf918b08424e98f38b5ae0af88f"
   }
  }
 },
 "nbformat": 4,
 "nbformat_minor": 2
}
