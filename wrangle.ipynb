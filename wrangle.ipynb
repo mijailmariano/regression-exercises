{
 "cells": [
  {
   "cell_type": "markdown",
   "metadata": {},
   "source": [
    "### Working with Zillow Dataset\n",
    "#### <u>``Artifact: IPYNB \"Data Wrangle\" File``</u>\n",
    "    \n",
    "    date: Monday, July 18th 2022\n",
    "----"
   ]
  },
  {
   "cell_type": "code",
   "execution_count": 2,
   "metadata": {},
   "outputs": [],
   "source": [
    "%matplotlib inline\n",
    "import warnings\n",
    "warnings.filterwarnings(\"ignore\")\n",
    "\n",
    "# importing needed libraries/modules\n",
    "import pandas as pd\n",
    "import numpy as np\n",
    "\n",
    "# importing visualization libraries \n",
    "import seaborn as sns\n",
    "import matplotlib.pyplot as plt\n",
    "plt.rcParams['figure.figsize'] = (10, 5)\n",
    "\n",
    "# importing data wrangle.py file for quicker \"importing\" of the zillow dataset\n",
    "from wrangle import get_zillow_dataset, clean_zillow_dataset\n",
    "\n",
    "# importing sql \n",
    "import env\n",
    "from env import user, password, host, get_connection"
   ]
  },
  {
   "cell_type": "markdown",
   "metadata": {},
   "source": [
    "----\n",
    "**``Exercises II``**\n",
    "\n",
    "Let's set up an example scenario as perspective for our regression exercises using the Zillow dataset.\n",
    "\n",
    "As a Codeup data science graduate, you want to show off your skills to the Zillow data science team in hopes of getting an interview for a position you saw pop up on LinkedIn. \n",
    "\n",
    "You thought it might look impressive to **build an end-to-end project in which you use some of their Kaggle data to predict property values using some of their available features**; who knows, you might even do some feature engineering to blow them away. Your **goal is to predict the values of single unit properties using the obervations from 2017.**\n",
    "\n",
    "In these exercises, you will complete the first step toward the above goal: acquire and prepare the necessary Zillow data from the zillow database in the Codeup database server.\n",
    "\n",
    "``Acquire:`` \n",
    "1. bedroomcnt\n",
    "2. bathroomcnt\n",
    "3. calculatedfinishedsquarefeet\n",
    "4. taxvaluedollarcnt\n",
    "5. yearbuilt\n",
    "6. taxamount, and \n",
    "7. fips \n",
    "\n",
    "from the zillow database for all **'Single Family Residential'** properties\n",
    "\n",
    "* Using your acquired Zillow data, walk through the summarization and cleaning steps in your wrangle.ipynb file like we did above. \n",
    "\n",
    "* You may handle the missing values however you feel is appropriate and meaningful; remember to document your process and decisions using markdown and code commenting where helpful.\n",
    "\n",
    "* Store all of the necessary functions to automate your process from acquiring the data to returning a cleaned dataframe witn no missing values in your wrangle.py file. Name your final function wrangle_zillow.\n",
    "\n",
    "----"
   ]
  },
  {
   "cell_type": "code",
   "execution_count": 3,
   "metadata": {},
   "outputs": [],
   "source": [
    "# let's import the needed zillow \"properties_2017\" table \n",
    "# note: incase of any future importing/MySQL issues, i'll also want to save/cache a local .csv file once the data has been initially imported\n",
    "\n",
    "# query necessary to pull the 2017 properties table from MySQL\n",
    "# query = ''' \n",
    "# SELECT\n",
    "#         bedroomcnt as bedroom_count,\n",
    "#         bathroomcnt as bath_count,\n",
    "#         calculatedfinishedsquarefeet as finished_sq_feet,\n",
    "#         taxvaluedollarcnt as tax_dollar_value,\n",
    "#         yearbuilt as year_built,\n",
    "#         taxamount,\n",
    "#         fips\n",
    "# FROM properties_2017\n",
    "# JOIN propertylandusetype using (propertylandusetypeid)\n",
    "# WHERE propertylandusedesc = \"Single Family Residential\"\n",
    "# '''\n",
    "\n",
    "# creating the MySQL url with necessary information \n",
    "# url = get_connection(user, password, host, \"zillow\")\n",
    "\n",
    "# creating the zillow dataframe using Pandas' read_sql() function\n",
    "# zillow_df = pd.read_sql(query, url)"
   ]
  },
  {
   "cell_type": "code",
   "execution_count": 4,
   "metadata": {},
   "outputs": [],
   "source": [
    "# creating a zillow.csv file for quicker/cache refencing \n",
    "# zillow_df.to_csv(\"/Users/mijailmariano/codeup-data-science/regression-exercises/zillow.csv\", index = True)\n",
    "# created!"
   ]
  },
  {
   "cell_type": "code",
   "execution_count": 5,
   "metadata": {},
   "outputs": [],
   "source": [
    "# can now call the zillow dataset from my \"wrangle.py\" file where the zillow data will be cached for quicker future referencing \n",
    "\n",
    "zillow_df = get_zillow_dataset()"
   ]
  },
  {
   "cell_type": "code",
   "execution_count": 6,
   "metadata": {},
   "outputs": [
    {
     "data": {
      "text/html": [
       "<div>\n",
       "<style scoped>\n",
       "    .dataframe tbody tr th:only-of-type {\n",
       "        vertical-align: middle;\n",
       "    }\n",
       "\n",
       "    .dataframe tbody tr th {\n",
       "        vertical-align: top;\n",
       "    }\n",
       "\n",
       "    .dataframe thead th {\n",
       "        text-align: right;\n",
       "    }\n",
       "</style>\n",
       "<table border=\"1\" class=\"dataframe\">\n",
       "  <thead>\n",
       "    <tr style=\"text-align: right;\">\n",
       "      <th></th>\n",
       "      <th>bedroom_count</th>\n",
       "      <th>bath_count</th>\n",
       "      <th>finished_sq_feet</th>\n",
       "      <th>tax_dollar_value</th>\n",
       "      <th>year_built</th>\n",
       "      <th>taxamount</th>\n",
       "      <th>fips</th>\n",
       "    </tr>\n",
       "  </thead>\n",
       "  <tbody>\n",
       "    <tr>\n",
       "      <th>0</th>\n",
       "      <td>0.0</td>\n",
       "      <td>0.0</td>\n",
       "      <td>NaN</td>\n",
       "      <td>27516.0</td>\n",
       "      <td>NaN</td>\n",
       "      <td>NaN</td>\n",
       "      <td>6037.0</td>\n",
       "    </tr>\n",
       "    <tr>\n",
       "      <th>1</th>\n",
       "      <td>0.0</td>\n",
       "      <td>0.0</td>\n",
       "      <td>NaN</td>\n",
       "      <td>10.0</td>\n",
       "      <td>NaN</td>\n",
       "      <td>NaN</td>\n",
       "      <td>6037.0</td>\n",
       "    </tr>\n",
       "    <tr>\n",
       "      <th>2</th>\n",
       "      <td>0.0</td>\n",
       "      <td>0.0</td>\n",
       "      <td>NaN</td>\n",
       "      <td>10.0</td>\n",
       "      <td>NaN</td>\n",
       "      <td>NaN</td>\n",
       "      <td>6037.0</td>\n",
       "    </tr>\n",
       "    <tr>\n",
       "      <th>3</th>\n",
       "      <td>0.0</td>\n",
       "      <td>0.0</td>\n",
       "      <td>NaN</td>\n",
       "      <td>2108.0</td>\n",
       "      <td>NaN</td>\n",
       "      <td>174.21</td>\n",
       "      <td>6037.0</td>\n",
       "    </tr>\n",
       "    <tr>\n",
       "      <th>4</th>\n",
       "      <td>4.0</td>\n",
       "      <td>2.0</td>\n",
       "      <td>3633.0</td>\n",
       "      <td>296425.0</td>\n",
       "      <td>2005.0</td>\n",
       "      <td>6941.39</td>\n",
       "      <td>6037.0</td>\n",
       "    </tr>\n",
       "  </tbody>\n",
       "</table>\n",
       "</div>"
      ],
      "text/plain": [
       "   bedroom_count  bath_count  finished_sq_feet  tax_dollar_value  year_built  \\\n",
       "0            0.0         0.0               NaN           27516.0         NaN   \n",
       "1            0.0         0.0               NaN              10.0         NaN   \n",
       "2            0.0         0.0               NaN              10.0         NaN   \n",
       "3            0.0         0.0               NaN            2108.0         NaN   \n",
       "4            4.0         2.0            3633.0          296425.0      2005.0   \n",
       "\n",
       "   taxamount    fips  \n",
       "0        NaN  6037.0  \n",
       "1        NaN  6037.0  \n",
       "2        NaN  6037.0  \n",
       "3     174.21  6037.0  \n",
       "4    6941.39  6037.0  "
      ]
     },
     "execution_count": 6,
     "metadata": {},
     "output_type": "execute_result"
    }
   ],
   "source": [
    "# let's confirm the MySQL table import\n",
    "zillow_df.head()"
   ]
  },
  {
   "cell_type": "code",
   "execution_count": 7,
   "metadata": {},
   "outputs": [
    {
     "data": {
      "text/plain": [
       "(2152863, 7)"
      ]
     },
     "execution_count": 7,
     "metadata": {},
     "output_type": "execute_result"
    }
   ],
   "source": [
    "# initial dataframe shape\n",
    "# 2,152,863 observations/rows\n",
    "# 7 features/columns\n",
    "\n",
    "initial_shape = zillow_df.shape\n",
    "initial_shape"
   ]
  },
  {
   "cell_type": "code",
   "execution_count": 8,
   "metadata": {},
   "outputs": [
    {
     "name": "stdout",
     "output_type": "stream",
     "text": [
      "<class 'pandas.core.frame.DataFrame'>\n",
      "Int64Index: 2152863 entries, 0 to 2152862\n",
      "Data columns (total 7 columns):\n",
      " #   Column            Dtype  \n",
      "---  ------            -----  \n",
      " 0   bedroom_count     float64\n",
      " 1   bath_count        float64\n",
      " 2   finished_sq_feet  float64\n",
      " 3   tax_dollar_value  float64\n",
      " 4   year_built        float64\n",
      " 5   taxamount         float64\n",
      " 6   fips              float64\n",
      "dtypes: float64(7)\n",
      "memory usage: 131.4 MB\n"
     ]
    }
   ],
   "source": [
    "# let's do some further data exploration/familiarization\n",
    "zillow_df.info()"
   ]
  },
  {
   "cell_type": "code",
   "execution_count": 9,
   "metadata": {},
   "outputs": [
    {
     "data": {
      "text/html": [
       "<div>\n",
       "<style scoped>\n",
       "    .dataframe tbody tr th:only-of-type {\n",
       "        vertical-align: middle;\n",
       "    }\n",
       "\n",
       "    .dataframe tbody tr th {\n",
       "        vertical-align: top;\n",
       "    }\n",
       "\n",
       "    .dataframe thead th {\n",
       "        text-align: right;\n",
       "    }\n",
       "</style>\n",
       "<table border=\"1\" class=\"dataframe\">\n",
       "  <thead>\n",
       "    <tr style=\"text-align: right;\">\n",
       "      <th></th>\n",
       "      <th>count</th>\n",
       "      <th>mean</th>\n",
       "      <th>std</th>\n",
       "      <th>min</th>\n",
       "      <th>25%</th>\n",
       "      <th>50%</th>\n",
       "      <th>75%</th>\n",
       "      <th>max</th>\n",
       "    </tr>\n",
       "  </thead>\n",
       "  <tbody>\n",
       "    <tr>\n",
       "      <th>bedroom_count</th>\n",
       "      <td>2152852.0</td>\n",
       "      <td>3.0</td>\n",
       "      <td>1.0</td>\n",
       "      <td>0.0</td>\n",
       "      <td>3.0</td>\n",
       "      <td>3.0</td>\n",
       "      <td>4.0</td>\n",
       "      <td>25.0</td>\n",
       "    </tr>\n",
       "    <tr>\n",
       "      <th>bath_count</th>\n",
       "      <td>2152852.0</td>\n",
       "      <td>2.0</td>\n",
       "      <td>1.0</td>\n",
       "      <td>0.0</td>\n",
       "      <td>2.0</td>\n",
       "      <td>2.0</td>\n",
       "      <td>3.0</td>\n",
       "      <td>32.0</td>\n",
       "    </tr>\n",
       "    <tr>\n",
       "      <th>finished_sq_feet</th>\n",
       "      <td>2144379.0</td>\n",
       "      <td>1863.0</td>\n",
       "      <td>1222.0</td>\n",
       "      <td>1.0</td>\n",
       "      <td>1257.0</td>\n",
       "      <td>1623.0</td>\n",
       "      <td>2208.0</td>\n",
       "      <td>952576.0</td>\n",
       "    </tr>\n",
       "    <tr>\n",
       "      <th>tax_dollar_value</th>\n",
       "      <td>2152370.0</td>\n",
       "      <td>461896.0</td>\n",
       "      <td>699676.0</td>\n",
       "      <td>1.0</td>\n",
       "      <td>188170.0</td>\n",
       "      <td>327671.0</td>\n",
       "      <td>534527.0</td>\n",
       "      <td>98428909.0</td>\n",
       "    </tr>\n",
       "    <tr>\n",
       "      <th>year_built</th>\n",
       "      <td>2143526.0</td>\n",
       "      <td>1961.0</td>\n",
       "      <td>22.0</td>\n",
       "      <td>1801.0</td>\n",
       "      <td>1949.0</td>\n",
       "      <td>1958.0</td>\n",
       "      <td>1976.0</td>\n",
       "      <td>2016.0</td>\n",
       "    </tr>\n",
       "    <tr>\n",
       "      <th>taxamount</th>\n",
       "      <td>2148421.0</td>\n",
       "      <td>5635.0</td>\n",
       "      <td>8179.0</td>\n",
       "      <td>2.0</td>\n",
       "      <td>2535.0</td>\n",
       "      <td>4109.0</td>\n",
       "      <td>6414.0</td>\n",
       "      <td>1337756.0</td>\n",
       "    </tr>\n",
       "    <tr>\n",
       "      <th>fips</th>\n",
       "      <td>2152863.0</td>\n",
       "      <td>6048.0</td>\n",
       "      <td>20.0</td>\n",
       "      <td>6037.0</td>\n",
       "      <td>6037.0</td>\n",
       "      <td>6037.0</td>\n",
       "      <td>6059.0</td>\n",
       "      <td>6111.0</td>\n",
       "    </tr>\n",
       "  </tbody>\n",
       "</table>\n",
       "</div>"
      ],
      "text/plain": [
       "                      count      mean       std     min       25%       50%  \\\n",
       "bedroom_count     2152852.0       3.0       1.0     0.0       3.0       3.0   \n",
       "bath_count        2152852.0       2.0       1.0     0.0       2.0       2.0   \n",
       "finished_sq_feet  2144379.0    1863.0    1222.0     1.0    1257.0    1623.0   \n",
       "tax_dollar_value  2152370.0  461896.0  699676.0     1.0  188170.0  327671.0   \n",
       "year_built        2143526.0    1961.0      22.0  1801.0    1949.0    1958.0   \n",
       "taxamount         2148421.0    5635.0    8179.0     2.0    2535.0    4109.0   \n",
       "fips              2152863.0    6048.0      20.0  6037.0    6037.0    6037.0   \n",
       "\n",
       "                       75%         max  \n",
       "bedroom_count          4.0        25.0  \n",
       "bath_count             3.0        32.0  \n",
       "finished_sq_feet    2208.0    952576.0  \n",
       "tax_dollar_value  534527.0  98428909.0  \n",
       "year_built          1976.0      2016.0  \n",
       "taxamount           6414.0   1337756.0  \n",
       "fips                6059.0      6111.0  "
      ]
     },
     "execution_count": 9,
     "metadata": {},
     "output_type": "execute_result"
    }
   ],
   "source": [
    "# let's do a .describe() to further understand the features and values\n",
    "summary_stats = zillow_df.describe().T.round()\n",
    "summary_stats"
   ]
  },
  {
   "cell_type": "code",
   "execution_count": 10,
   "metadata": {},
   "outputs": [
    {
     "data": {
      "text/html": [
       "<div>\n",
       "<style scoped>\n",
       "    .dataframe tbody tr th:only-of-type {\n",
       "        vertical-align: middle;\n",
       "    }\n",
       "\n",
       "    .dataframe tbody tr th {\n",
       "        vertical-align: top;\n",
       "    }\n",
       "\n",
       "    .dataframe thead th {\n",
       "        text-align: right;\n",
       "    }\n",
       "</style>\n",
       "<table border=\"1\" class=\"dataframe\">\n",
       "  <thead>\n",
       "    <tr style=\"text-align: right;\">\n",
       "      <th></th>\n",
       "      <th>count</th>\n",
       "      <th>mean</th>\n",
       "      <th>std</th>\n",
       "      <th>min</th>\n",
       "      <th>25%</th>\n",
       "      <th>50%</th>\n",
       "      <th>75%</th>\n",
       "      <th>max</th>\n",
       "      <th>range</th>\n",
       "    </tr>\n",
       "  </thead>\n",
       "  <tbody>\n",
       "    <tr>\n",
       "      <th>bedroom_count</th>\n",
       "      <td>2152852.0</td>\n",
       "      <td>3.0</td>\n",
       "      <td>1.0</td>\n",
       "      <td>0.0</td>\n",
       "      <td>3.0</td>\n",
       "      <td>3.0</td>\n",
       "      <td>4.0</td>\n",
       "      <td>25.0</td>\n",
       "      <td>25.0</td>\n",
       "    </tr>\n",
       "    <tr>\n",
       "      <th>bath_count</th>\n",
       "      <td>2152852.0</td>\n",
       "      <td>2.0</td>\n",
       "      <td>1.0</td>\n",
       "      <td>0.0</td>\n",
       "      <td>2.0</td>\n",
       "      <td>2.0</td>\n",
       "      <td>3.0</td>\n",
       "      <td>32.0</td>\n",
       "      <td>32.0</td>\n",
       "    </tr>\n",
       "    <tr>\n",
       "      <th>finished_sq_feet</th>\n",
       "      <td>2144379.0</td>\n",
       "      <td>1863.0</td>\n",
       "      <td>1222.0</td>\n",
       "      <td>1.0</td>\n",
       "      <td>1257.0</td>\n",
       "      <td>1623.0</td>\n",
       "      <td>2208.0</td>\n",
       "      <td>952576.0</td>\n",
       "      <td>952575.0</td>\n",
       "    </tr>\n",
       "    <tr>\n",
       "      <th>tax_dollar_value</th>\n",
       "      <td>2152370.0</td>\n",
       "      <td>461896.0</td>\n",
       "      <td>699676.0</td>\n",
       "      <td>1.0</td>\n",
       "      <td>188170.0</td>\n",
       "      <td>327671.0</td>\n",
       "      <td>534527.0</td>\n",
       "      <td>98428909.0</td>\n",
       "      <td>98428908.0</td>\n",
       "    </tr>\n",
       "    <tr>\n",
       "      <th>year_built</th>\n",
       "      <td>2143526.0</td>\n",
       "      <td>1961.0</td>\n",
       "      <td>22.0</td>\n",
       "      <td>1801.0</td>\n",
       "      <td>1949.0</td>\n",
       "      <td>1958.0</td>\n",
       "      <td>1976.0</td>\n",
       "      <td>2016.0</td>\n",
       "      <td>215.0</td>\n",
       "    </tr>\n",
       "    <tr>\n",
       "      <th>taxamount</th>\n",
       "      <td>2148421.0</td>\n",
       "      <td>5635.0</td>\n",
       "      <td>8179.0</td>\n",
       "      <td>2.0</td>\n",
       "      <td>2535.0</td>\n",
       "      <td>4109.0</td>\n",
       "      <td>6414.0</td>\n",
       "      <td>1337756.0</td>\n",
       "      <td>1337754.0</td>\n",
       "    </tr>\n",
       "    <tr>\n",
       "      <th>fips</th>\n",
       "      <td>2152863.0</td>\n",
       "      <td>6048.0</td>\n",
       "      <td>20.0</td>\n",
       "      <td>6037.0</td>\n",
       "      <td>6037.0</td>\n",
       "      <td>6037.0</td>\n",
       "      <td>6059.0</td>\n",
       "      <td>6111.0</td>\n",
       "      <td>74.0</td>\n",
       "    </tr>\n",
       "  </tbody>\n",
       "</table>\n",
       "</div>"
      ],
      "text/plain": [
       "                      count      mean       std     min       25%       50%  \\\n",
       "bedroom_count     2152852.0       3.0       1.0     0.0       3.0       3.0   \n",
       "bath_count        2152852.0       2.0       1.0     0.0       2.0       2.0   \n",
       "finished_sq_feet  2144379.0    1863.0    1222.0     1.0    1257.0    1623.0   \n",
       "tax_dollar_value  2152370.0  461896.0  699676.0     1.0  188170.0  327671.0   \n",
       "year_built        2143526.0    1961.0      22.0  1801.0    1949.0    1958.0   \n",
       "taxamount         2148421.0    5635.0    8179.0     2.0    2535.0    4109.0   \n",
       "fips              2152863.0    6048.0      20.0  6037.0    6037.0    6037.0   \n",
       "\n",
       "                       75%         max       range  \n",
       "bedroom_count          4.0        25.0        25.0  \n",
       "bath_count             3.0        32.0        32.0  \n",
       "finished_sq_feet    2208.0    952576.0    952575.0  \n",
       "tax_dollar_value  534527.0  98428909.0  98428908.0  \n",
       "year_built          1976.0      2016.0       215.0  \n",
       "taxamount           6414.0   1337756.0   1337754.0  \n",
       "fips                6059.0      6111.0        74.0  "
      ]
     },
     "execution_count": 10,
     "metadata": {},
     "output_type": "execute_result"
    }
   ],
   "source": [
    "# let's also add a value range to this describe \n",
    "\n",
    "summary_stats[\"range\"] = summary_stats[\"max\"] - summary_stats[\"min\"]\n",
    "summary_stats"
   ]
  },
  {
   "cell_type": "markdown",
   "metadata": {},
   "source": [
    "**``initial data familiarization/summary stats takeways: ``**\n",
    "\n",
    "- the following features can be converted to \"int\" type columns/values: bedroom_count, year_built, and \"fips\"\n",
    "- could \"year_built\" be better represented as a \"datetime\" type column/values ??"
   ]
  },
  {
   "cell_type": "code",
   "execution_count": 11,
   "metadata": {},
   "outputs": [
    {
     "data": {
      "text/plain": [
       "bedroom_count        True\n",
       "bath_count           True\n",
       "finished_sq_feet     True\n",
       "tax_dollar_value     True\n",
       "year_built           True\n",
       "taxamount            True\n",
       "fips                False\n",
       "dtype: bool"
      ]
     },
     "execution_count": 11,
     "metadata": {},
     "output_type": "execute_result"
    }
   ],
   "source": [
    "# continuing to explore the zillow dataframe: checking null values and percentage of column \n",
    "# here we see all columns contain \"Null\" values\n",
    "\n",
    "zillow_df.isnull().any()"
   ]
  },
  {
   "cell_type": "code",
   "execution_count": 12,
   "metadata": {},
   "outputs": [
    {
     "data": {
      "text/plain": [
       "bedroom_count         11\n",
       "bath_count            11\n",
       "finished_sq_feet    8484\n",
       "tax_dollar_value     493\n",
       "year_built          9337\n",
       "taxamount           4442\n",
       "fips                   0\n",
       "dtype: int64"
      ]
     },
     "execution_count": 12,
     "metadata": {},
     "output_type": "execute_result"
    }
   ],
   "source": [
    "# total number of missing values per column \n",
    "\n",
    "zillow_df.isnull().sum()"
   ]
  },
  {
   "cell_type": "code",
   "execution_count": 13,
   "metadata": {},
   "outputs": [
    {
     "data": {
      "text/plain": [
       "bedroom_count       0.000\n",
       "bath_count          0.000\n",
       "finished_sq_feet    0.004\n",
       "tax_dollar_value    0.000\n",
       "year_built          0.004\n",
       "taxamount           0.002\n",
       "fips                0.000\n",
       "dtype: float64"
      ]
     },
     "execution_count": 13,
     "metadata": {},
     "output_type": "execute_result"
    }
   ],
   "source": [
    "# what percentage of Null values makeup ea. column \n",
    "\n",
    "round(zillow_df.isnull().mean(), 3)"
   ]
  },
  {
   "cell_type": "markdown",
   "metadata": {},
   "source": [
    "----\n",
    "**``Dealing with Null Values in Zillow Dataset:``**\n",
    "\n",
    "Each feature contains Null values:\n",
    "- since missing/null values in ea. column represent <= ~1% of total observations, i am choosing to drop these rows/obversations\n",
    "- reason being is that they may not be statistically significant in our overall analysis and we will still have a large enough sample/dataset to make inferences on future home value predictions"
   ]
  },
  {
   "cell_type": "code",
   "execution_count": 14,
   "metadata": {},
   "outputs": [
    {
     "data": {
      "text/plain": [
       "(2140235, 7)"
      ]
     },
     "execution_count": 14,
     "metadata": {},
     "output_type": "execute_result"
    }
   ],
   "source": [
    "# let's handle the missing values and then the \"column types\"\n",
    "\n",
    "zillow_df = zillow_df.dropna()\n",
    "zillow_df.shape"
   ]
  },
  {
   "cell_type": "code",
   "execution_count": 15,
   "metadata": {},
   "outputs": [
    {
     "name": "stdout",
     "output_type": "stream",
     "text": [
      "initial dataset shape: (2152863, 7)\n",
      "updated dataset with dropped rows: (2140235, 7)\n"
     ]
    }
   ],
   "source": [
    "# difference in initial dataframe vs. dropped rows dataframe\n",
    "# where ~12K rows/obversations have been dropped\n",
    "\n",
    "print(f'initial dataset shape: {initial_shape}')\n",
    "print(f'updated dataset with dropped rows: {zillow_df.shape}')"
   ]
  },
  {
   "cell_type": "code",
   "execution_count": 16,
   "metadata": {},
   "outputs": [
    {
     "name": "stdout",
     "output_type": "stream",
     "text": [
      "<class 'pandas.core.frame.DataFrame'>\n",
      "Int64Index: 2140235 entries, 4 to 2152862\n",
      "Data columns (total 7 columns):\n",
      " #   Column            Dtype  \n",
      "---  ------            -----  \n",
      " 0   bedroom_count     float64\n",
      " 1   bath_count        float64\n",
      " 2   finished_sq_feet  float64\n",
      " 3   tax_dollar_value  float64\n",
      " 4   year_built        float64\n",
      " 5   taxamount         float64\n",
      " 6   fips              float64\n",
      "dtypes: float64(7)\n",
      "memory usage: 130.6 MB\n"
     ]
    }
   ],
   "source": [
    "# converting the columns to correct type\n",
    "# the following features can be converted to \"int\" type columns/values: bedroom_count, finished_sq_feet, and \"fips\"\n",
    "# additionally, \"year_built\" can be converted to either \"int\" or \"datetime\" type\n",
    "\n",
    "\n",
    "zillow_df.info()"
   ]
  },
  {
   "cell_type": "code",
   "execution_count": 17,
   "metadata": {},
   "outputs": [
    {
     "name": "stdout",
     "output_type": "stream",
     "text": [
      "Unique bedroom_count's count: 19\n",
      "[ 4.  3.  0.  5.  2.  1.  6.  7.  8.  9. 25. 10. 11. 14. 15. 13. 12. 16.\n",
      " 18.] \n",
      "\n",
      "Unique bath_count's count: 38\n",
      "[ 2.    4.    0.    1.    2.5   3.5   3.    5.5   4.5   5.    1.5   7.5\n",
      "  6.   10.    8.    7.   11.    9.    8.5   6.5  13.    9.5  20.   19.5\n",
      " 12.   10.5  15.   16.    1.75 14.   18.    0.5  17.   12.5  11.5  14.5\n",
      " 32.   19.  ] \n",
      "\n",
      "Unique finished_sq_feet's count: 10557\n",
      "[ 3633.  1620.  2077. ...  8545.  7342. 24920.] \n",
      "\n",
      "Unique tax_dollar_value's count: 588178\n",
      "[296425. 847770. 646760. ... 773358. 960756. 536061.] \n",
      "\n",
      "Unique year_built's count: 153\n",
      "[2005. 2011. 1926. 1972. 1973. 1960. 1950. 1951. 2016. 2013. 2014. 2015.\n",
      " 2012. 1944. 1953. 1984. 1971. 1989. 1932. 1978. 1961. 1967. 1981. 1966.\n",
      " 1982. 1929. 1995. 1979. 1957. 1958. 1947. 1954. 1962. 1956. 1904. 1963.\n",
      " 1940. 1980. 1987. 1964. 1935. 1928. 1955. 1948. 1959. 1965. 1974. 1952.\n",
      " 1988. 1977. 1924. 1925. 1930. 1927. 1941. 1939. 1999. 1976. 1986. 1998.\n",
      " 1968. 1975. 1991. 1994. 1936. 1993. 1890. 2001. 1985. 1996. 1970. 1990.\n",
      " 1969. 1983. 1992. 1997. 2003. 1949. 1908. 1943. 2000. 1942. 1938. 2002.\n",
      " 1913. 1923. 1946. 1921. 1933. 1919. 1937. 2007. 2006. 1934. 1920. 1931.\n",
      " 2008. 1945. 1922. 1910. 1909. 1918. 1914. 1911. 2009. 1916. 1907. 1912.\n",
      " 1905. 1915. 1901. 1903. 1917. 1906. 1902. 1885. 1887. 2004. 1900. 1898.\n",
      " 1895. 1896. 2010. 1899. 1893. 1886. 1889. 1894. 1897. 1862. 1880. 1891.\n",
      " 1888. 1892. 1884. 1883. 1875. 1870. 1882. 1881. 1840. 1865. 1876. 1833.\n",
      " 1879. 1801. 1855. 1823. 1807. 1878. 1877. 1812. 1874.] \n",
      "\n",
      "Unique taxamount's count: 915868\n",
      "[ 6941.39 10244.94  7924.68 ... 15568.38  8347.9  13494.52] \n",
      "\n",
      "Unique fips's count: 3\n",
      "[6037. 6059. 6111.] \n",
      "\n"
     ]
    }
   ],
   "source": [
    "# using a for loop to print unique values per column\n",
    "# value lists are abbreviated since there are too many unique values\n",
    "\n",
    "\n",
    "for column in zillow_df.columns:\n",
    "    \n",
    "    print(f\"Unique {column}'s count: {zillow_df[column].nunique()}\")\n",
    "    print(f'{zillow_df[column].unique()}', \"\\n\")"
   ]
  },
  {
   "cell_type": "code",
   "execution_count": 18,
   "metadata": {},
   "outputs": [
    {
     "name": "stdout",
     "output_type": "stream",
     "text": [
      "<class 'pandas.core.frame.DataFrame'>\n",
      "Int64Index: 2140235 entries, 4 to 2152862\n",
      "Data columns (total 7 columns):\n",
      " #   Column            Dtype  \n",
      "---  ------            -----  \n",
      " 0   bedroom_count     int64  \n",
      " 1   bath_count        float64\n",
      " 2   finished_sq_feet  float64\n",
      " 3   tax_dollar_value  float64\n",
      " 4   year_built        int64  \n",
      " 5   taxamount         float64\n",
      " 6   fips              int64  \n",
      "dtypes: float64(4), int64(3)\n",
      "memory usage: 130.6 MB\n"
     ]
    }
   ],
   "source": [
    "# let's handle the needed \"int\" type columns first\n",
    "\n",
    "zillow_df[[\"bedroom_count\", \"year_built\", \"fips\"]] = zillow_df[[\"bedroom_count\", \"year_built\", \"fips\"]].astype(\"int\")\n",
    "zillow_df.info() # checks out!"
   ]
  },
  {
   "cell_type": "code",
   "execution_count": 19,
   "metadata": {},
   "outputs": [
    {
     "data": {
      "text/plain": [
       "4     2005\n",
       "6     2011\n",
       "7     1926\n",
       "11    1972\n",
       "14    1973\n",
       "15    1960\n",
       "18    1950\n",
       "19    1950\n",
       "20    1951\n",
       "21    2016\n",
       "23    2013\n",
       "24    2014\n",
       "25    2014\n",
       "26    2014\n",
       "27    2015\n",
       "28    2013\n",
       "29    2014\n",
       "30    2013\n",
       "31    2014\n",
       "32    2015\n",
       "Name: year_built, dtype: int64"
      ]
     },
     "execution_count": 19,
     "metadata": {},
     "output_type": "execute_result"
    }
   ],
   "source": [
    "zillow_df.year_built.head(20)"
   ]
  },
  {
   "cell_type": "code",
   "execution_count": 20,
   "metadata": {},
   "outputs": [
    {
     "name": "stdout",
     "output_type": "stream",
     "text": [
      "bedroom_count\n",
      "3     962944\n",
      "4     633608\n",
      "2     334221\n",
      "5     150671\n",
      "6      25117\n",
      "1      22895\n",
      "7       4792\n",
      "0       4397\n",
      "8       1103\n",
      "9        290\n",
      "10       118\n",
      "11        34\n",
      "13        15\n",
      "12        12\n",
      "14         7\n",
      "15         5\n",
      "18         3\n",
      "16         2\n",
      "25         1\n",
      "Name: bedroom_count, dtype: int64\n",
      "-----------------\n",
      "\n",
      "bath_count\n",
      "2.00     942463\n",
      "3.00     422398\n",
      "1.00     412582\n",
      "2.50     142827\n",
      "4.00      82039\n",
      "1.50      31157\n",
      "3.50      28464\n",
      "5.00      28306\n",
      "4.50      19474\n",
      "6.00      10717\n",
      "5.50       6201\n",
      "7.00       4381\n",
      "0.00       4274\n",
      "8.00       1681\n",
      "6.50       1330\n",
      "9.00        707\n",
      "7.50        382\n",
      "10.00       322\n",
      "11.00       145\n",
      "8.50        108\n",
      "12.00        73\n",
      "9.50         50\n",
      "13.00        39\n",
      "14.00        25\n",
      "15.00        17\n",
      "0.50         16\n",
      "10.50        14\n",
      "16.00        12\n",
      "18.00         8\n",
      "20.00         6\n",
      "17.00         4\n",
      "1.75          3\n",
      "12.50         3\n",
      "11.50         3\n",
      "19.50         1\n",
      "14.50         1\n",
      "32.00         1\n",
      "19.00         1\n",
      "Name: bath_count, dtype: int64\n",
      "-----------------\n",
      "\n",
      "finished_sq_feet\n",
      "1200.0     5184\n",
      "1080.0     4376\n",
      "1120.0     4354\n",
      "1400.0     3828\n",
      "1440.0     3684\n",
      "           ... \n",
      "10180.0       1\n",
      "13169.0       1\n",
      "9095.0        1\n",
      "10525.0       1\n",
      "24920.0       1\n",
      "Name: finished_sq_feet, Length: 10557, dtype: int64\n",
      "-----------------\n",
      "\n",
      "tax_dollar_value\n",
      "450000.0    820\n",
      "500000.0    774\n",
      "400000.0    723\n",
      "430000.0    690\n",
      "440000.0    683\n",
      "           ... \n",
      "729523.0      1\n",
      "940139.0      1\n",
      "545367.0      1\n",
      "38804.0       1\n",
      "536061.0      1\n",
      "Name: tax_dollar_value, Length: 588178, dtype: int64\n",
      "-----------------\n",
      "\n",
      "year_built\n",
      "1955    84329\n",
      "1950    71606\n",
      "1954    69069\n",
      "1953    62270\n",
      "1956    61858\n",
      "        ...  \n",
      "1855        1\n",
      "1879        1\n",
      "1833        1\n",
      "1840        1\n",
      "1874        1\n",
      "Name: year_built, Length: 153, dtype: int64\n",
      "-----------------\n",
      "\n",
      "taxamount\n",
      "345.72      172\n",
      "344.18       76\n",
      "343.52       74\n",
      "49.18        46\n",
      "388.18       37\n",
      "           ... \n",
      "8191.38       1\n",
      "11627.92      1\n",
      "15008.68      1\n",
      "9227.22       1\n",
      "13494.52      1\n",
      "Name: taxamount, Length: 915868, dtype: int64\n",
      "-----------------\n",
      "\n",
      "fips\n",
      "6037    1425207\n",
      "6059     552057\n",
      "6111     162971\n",
      "Name: fips, dtype: int64\n",
      "-----------------\n",
      "\n"
     ]
    }
   ],
   "source": [
    "# printing value_counts per individual column\n",
    "for column in zillow_df.columns:\n",
    "    print(column)\n",
    "    print(zillow_df[column].value_counts())\n",
    "    print(\"-----------------\")\n",
    "    print()"
   ]
  },
  {
   "cell_type": "markdown",
   "metadata": {},
   "source": [
    "----"
   ]
  },
  {
   "cell_type": "markdown",
   "metadata": {},
   "source": [
    "### **``Data acquisition and preparation``**\n",
    "\n",
    "- From ``\"wrangle.py\"`` file, I can now acquire and clean the zillow dataset with two (2) created functions:\n",
    "\n",
    "1. **``zillow_df = get_zillow_data()``**\n",
    "\n",
    "2. **``zillow_df = clean_zillow_data(zillow_df)``**"
   ]
  },
  {
   "cell_type": "markdown",
   "metadata": {},
   "source": []
  }
 ],
 "metadata": {
  "kernelspec": {
   "display_name": "Python 3.9.12 ('base')",
   "language": "python",
   "name": "python3"
  },
  "language_info": {
   "codemirror_mode": {
    "name": "ipython",
    "version": 3
   },
   "file_extension": ".py",
   "mimetype": "text/x-python",
   "name": "python",
   "nbconvert_exporter": "python",
   "pygments_lexer": "ipython3",
   "version": "3.9.12"
  },
  "orig_nbformat": 4,
  "vscode": {
   "interpreter": {
    "hash": "40d3a090f54c6569ab1632332b64b2c03c39dcf918b08424e98f38b5ae0af88f"
   }
  }
 },
 "nbformat": 4,
 "nbformat_minor": 2
}
